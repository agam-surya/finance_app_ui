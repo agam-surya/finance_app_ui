{
 "cells": [
  {
   "attachments": {},
   "cell_type": "markdown",
   "metadata": {},
   "source": [
    "# finance_app_ui\n",
    "\n",
    "**ini adalah project slicing ui design dari Ahmad Sulaiman di dribbble**\n",
    "\n",
    "[https://dribbble.com/shots/15915703/](https://dribbble.com/shots/15915703/)\n",
    "\n",
    "\n",
    "\n",
    "## ScreenShots\n",
    "\n",
    "<img src=\"https://user-images.githubusercontent.com/72247163/211196675-a40e3f35-ba59-4163-9cc3-e9f076006206.jpg\" width=\"360\" height=\"800\" />\n",
    "\n",
    "<img src=\"https://user-images.githubusercontent.com/72247163/211196679-224d0aca-eabe-4657-b06b-e275a854628e.jpg\" width=\"360\" height=\"800\" />\n",
    "\n",
    "<img src=\"https://user-images.githubusercontent.com/72247163/211196682-6570f92b-4709-4af8-b768-283f5653f5a8.jpg\" width=\"360\" height=\"800\" />\n",
    "\n",
    "<img src=\"https://user-images.githubusercontent.com/72247163/211283709-7c8d1701-56df-4232-8c48-6509fbc3db30.jpg\" width=\"360\" height=\"800\" />\n",
    "\n",
    "<img src=\"https://user-images.githubusercontent.com/72247163/211282291-2475cca3-8407-4d52-9f8c-7b3c1dad0ce1.jpg\" width=\"360\" height=\"800\" />\n"
   ]
  }
 ],
 "metadata": {
  "kernelspec": {
   "display_name": "Python 3",
   "language": "python",
   "name": "python3"
  },
  "language_info": {
   "name": "python",
   "version": "3.10.7 (tags/v3.10.7:6cc6b13, Sep  5 2022, 14:08:36) [MSC v.1933 64 bit (AMD64)]"
  },
  "orig_nbformat": 4,
  "vscode": {
   "interpreter": {
    "hash": "f2ccb58c476f33ba3e3aee7ac07234ef6b8217ef24ad64d2a7d4fed1a57c1cd2"
   }
  }
 },
 "nbformat": 4,
 "nbformat_minor": 2
}
